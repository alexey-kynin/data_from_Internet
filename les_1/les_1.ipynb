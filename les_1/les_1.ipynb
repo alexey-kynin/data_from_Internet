{
 "cells": [
  {
   "cell_type": "markdown",
   "metadata": {
    "collapsed": true,
    "pycharm": {
     "name": "#%% md\n"
    }
   },
   "source": [
    "## Урок 1"
   ]
  },
  {
   "cell_type": "markdown",
   "source": [
    "1. Посмотреть документацию к API GitHub, разобраться как вывести список репозиториев\n",
    "   для конкретного пользователя, сохранить JSON-вывод в файле *.json."
   ],
   "metadata": {
    "collapsed": false,
    "pycharm": {
     "name": "#%% md\n"
    }
   }
  },
  {
   "cell_type": "code",
   "execution_count": 27,
   "outputs": [],
   "source": [
    "import requests\n",
    "import json\n"
   ],
   "metadata": {
    "collapsed": false,
    "pycharm": {
     "name": "#%%\n"
    }
   }
  },
  {
   "cell_type": "code",
   "execution_count": 28,
   "outputs": [],
   "source": [
    "url = 'https://api.github.com'\n",
    "user='alexey-kynin'"
   ],
   "metadata": {
    "collapsed": false,
    "pycharm": {
     "name": "#%%\n"
    }
   }
  },
  {
   "cell_type": "markdown",
   "source": [
    "Строка должна иметь вид \"https://api.github.com/users/:username/repos\", собираем ее"
   ],
   "metadata": {
    "collapsed": false,
    "pycharm": {
     "name": "#%% md\n"
    }
   }
  },
  {
   "cell_type": "code",
   "execution_count": 29,
   "outputs": [],
   "source": [
    "req = requests.get(f'{url}/users/{user}/repos')"
   ],
   "metadata": {
    "collapsed": false,
    "pycharm": {
     "name": "#%%\n"
    }
   }
  },
  {
   "cell_type": "code",
   "execution_count": 30,
   "outputs": [
    {
     "name": "stdout",
     "output_type": "stream",
     "text": [
      "cake\n",
      "data_from_Internet\n",
      "fitness\n",
      "gb\n",
      "gb_mysql\n",
      "maximalife.dev\n",
      "mysql\n",
      "python-ds\n",
      "Python-for-Data-Science\n",
      "SNAPFIXX2\n"
     ]
    }
   ],
   "source": [
    "for i in req.json():\n",
    "    print(i['name'])\n"
   ],
   "metadata": {
    "collapsed": false,
    "pycharm": {
     "name": "#%%\n"
    }
   }
  },
  {
   "cell_type": "markdown",
   "source": [
    "2. Изучить список открытых API. Найти среди них любое, требующее авторизацию (любого типа).\n",
    "   Выполнить запросы к нему, пройдя авторизацию. Ответ сервера записать в файл.\n"
   ],
   "metadata": {
    "collapsed": false,
    "pycharm": {
     "name": "#%% md\n"
    }
   }
  },
  {
   "cell_type": "code",
   "execution_count": 31,
   "outputs": [],
   "source": [
    "# тип строки: https://api.nasa.gov/planetary/apod?api_key=Fw3wGS9bTpZgjds66aDoTLI4Z2Jh4QDEufmcudX6\n",
    "\n",
    "url = 'https://api.nasa.gov/planetary/apod'\n",
    "token = 'Fw3wGS9bTpZgjds66aDoTLI4Z2Jh4QDEufmcudX6'"
   ],
   "metadata": {
    "collapsed": false,
    "pycharm": {
     "name": "#%%\n"
    }
   }
  },
  {
   "cell_type": "code",
   "execution_count": 32,
   "outputs": [
    {
     "name": "stdout",
     "output_type": "stream",
     "text": [
      "{\"copyright\":\"Michael Abramyan\",\"date\":\"2021-10-25\",\"explanation\":\"Does the road to our galaxy's center go through Monument Valley? It doesn't have to, but if your road does -- take a picture. In this case, the road is US Route 163 and iconic buttes on the Navajo National Reservation populate the horizon.  The band of Milky Way Galaxy stretches down from the sky and appears to be a continuation of the road on Earth. Filaments of dust darken the Milky Way, in contrast to billions of bright stars and several colorful glowing gas clouds including the Lagoon and Trifid nebulas. The featured picture is a composite of images taken with the same camera and from the same location -- Forest Gump Point in Utah, USA. The foreground was taken just after sunset in early September during the blue hour, while the background is a mosaic of four exposures captured a few hours later.    Discovery + Outreach: Graduate student research position open for APOD\",\"hdurl\":\"https://apod.nasa.gov/apod/image/2110/MonumentValleyRoad_Abramyan_2048.jpg\",\"media_type\":\"image\",\"service_version\":\"v1\",\"title\":\"Road to the Galactic Center\",\"url\":\"https://apod.nasa.gov/apod/image/2110/MonumentValleyRoad_Abramyan_960.jpg\"}\n",
      "\n"
     ]
    }
   ],
   "source": [
    "req = requests.get(f'{url}?api_key={token}')"
   ],
   "metadata": {
    "collapsed": false,
    "pycharm": {
     "name": "#%%\n"
    }
   }
  },
  {
   "cell_type": "code",
   "execution_count": 33,
   "outputs": [
    {
     "data": {
      "text/plain": "{'copyright': 'Michael Abramyan',\n 'date': '2021-10-25',\n 'explanation': \"Does the road to our galaxy's center go through Monument Valley? It doesn't have to, but if your road does -- take a picture. In this case, the road is US Route 163 and iconic buttes on the Navajo National Reservation populate the horizon.  The band of Milky Way Galaxy stretches down from the sky and appears to be a continuation of the road on Earth. Filaments of dust darken the Milky Way, in contrast to billions of bright stars and several colorful glowing gas clouds including the Lagoon and Trifid nebulas. The featured picture is a composite of images taken with the same camera and from the same location -- Forest Gump Point in Utah, USA. The foreground was taken just after sunset in early September during the blue hour, while the background is a mosaic of four exposures captured a few hours later.    Discovery + Outreach: Graduate student research position open for APOD\",\n 'hdurl': 'https://apod.nasa.gov/apod/image/2110/MonumentValleyRoad_Abramyan_2048.jpg',\n 'media_type': 'image',\n 'service_version': 'v1',\n 'title': 'Road to the Galactic Center',\n 'url': 'https://apod.nasa.gov/apod/image/2110/MonumentValleyRoad_Abramyan_960.jpg'}"
     },
     "execution_count": 33,
     "metadata": {},
     "output_type": "execute_result"
    }
   ],
   "source": [
    "req.json()"
   ],
   "metadata": {
    "collapsed": false,
    "pycharm": {
     "name": "#%%\n"
    }
   }
  }
 ],
 "metadata": {
  "kernelspec": {
   "display_name": "Python 3",
   "language": "python",
   "name": "python3"
  },
  "language_info": {
   "codemirror_mode": {
    "name": "ipython",
    "version": 2
   },
   "file_extension": ".py",
   "mimetype": "text/x-python",
   "name": "python",
   "nbconvert_exporter": "python",
   "pygments_lexer": "ipython2",
   "version": "2.7.6"
  }
 },
 "nbformat": 4,
 "nbformat_minor": 0
}